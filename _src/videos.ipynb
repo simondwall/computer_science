{
 "cells": [
  {
   "cell_type": "code",
   "execution_count": 1,
   "id": "14961c6f-c577-4e27-83b5-9f4fc97d56b6",
   "metadata": {},
   "outputs": [
    {
     "data": {
      "text/html": [
       "<pre style=\"white-space:pre;overflow-x:auto;line-height:normal;font-family:Menlo,'DejaVu Sans Mono',consolas,'Courier New',monospace\">Manim Community <span style=\"color: #008000; text-decoration-color: #008000\">v0.18.0.post0</span>\n",
       "\n",
       "</pre>\n"
      ],
      "text/plain": [
       "Manim Community \u001b[32mv0.\u001b[0m\u001b[32m18.0\u001b[0m\u001b[32m.post0\u001b[0m\n",
       "\n"
      ]
     },
     "metadata": {},
     "output_type": "display_data"
    }
   ],
   "source": [
    "from manim import *"
   ]
  },
  {
   "cell_type": "code",
   "execution_count": 43,
   "id": "dd83ab0f-787c-4840-8fb0-6e924dc96b55",
   "metadata": {},
   "outputs": [
    {
     "name": "stderr",
     "output_type": "stream",
     "text": [
      "                                                                                                    \r"
     ]
    },
    {
     "data": {
      "text/html": [
       "<video src=\"media/jupyter/Test@2024-04-26@10-00-38.mp4\" controls autoplay loop style=\"max-width: 60%;\"  >\n",
       "      Your browser does not support the <code>video</code> element.\n",
       "    </video>"
      ],
      "text/plain": [
       "<IPython.core.display.Video object>"
      ]
     },
     "metadata": {},
     "output_type": "display_data"
    }
   ],
   "source": [
    "%%manim -v WARNING --fps 24 --resolution 1920,540 Test\n",
    "\n",
    "class Test(Scene):\n",
    "    def construct(self):\n",
    "        self.camera.background_color = WHITE\n",
    "        txt = Text(\"this is a test\", color=BLACK)\n",
    "\n",
    "        self.play(Write(txt))\n",
    "        self.wait()\n",
    "        self.play(Circumscribe(txt[4:7], color=BLUE))\n",
    "        self.play(Unwrite(txt))\n",
    "        self.wait()"
   ]
  },
  {
   "cell_type": "code",
   "execution_count": 44,
   "id": "90f9711e-bed9-40e1-916d-e6b083aa9390",
   "metadata": {},
   "outputs": [
    {
     "name": "stdout",
     "output_type": "stream",
     "text": [
      "./media/videos/_src/540p24/Test.mp4 -> ../assets/video/Test.mp4\n",
      "cp: ./media/videos/_src/540p24/partial_movie_files is a directory (not copied).\n"
     ]
    }
   ],
   "source": [
    "!cp -v ./media/videos/_src/540p24/* ../assets/video/"
   ]
  },
  {
   "cell_type": "code",
   "execution_count": null,
   "id": "6f8edb04-d957-4687-a049-670ec15dbde4",
   "metadata": {},
   "outputs": [],
   "source": []
  }
 ],
 "metadata": {
  "kernelspec": {
   "display_name": "Python 3 (ipykernel)",
   "language": "python",
   "name": "python3"
  },
  "language_info": {
   "codemirror_mode": {
    "name": "ipython",
    "version": 3
   },
   "file_extension": ".py",
   "mimetype": "text/x-python",
   "name": "python",
   "nbconvert_exporter": "python",
   "pygments_lexer": "ipython3",
   "version": "3.12.1"
  }
 },
 "nbformat": 4,
 "nbformat_minor": 5
}
